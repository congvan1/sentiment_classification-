{
 "cells": [
  {
   "cell_type": "code",
   "execution_count": 3,
   "metadata": {},
   "outputs": [],
   "source": [
    "import numpy as np\n",
    "import pandas as pd\n",
    "import urllib.request as requests\n",
    "import string\n",
    "import re\n",
    "import matplotlib.pyplot as plt"
   ]
  },
  {
   "cell_type": "code",
   "execution_count": 4,
   "metadata": {},
   "outputs": [
    {
     "data": {
      "text/html": [
       "<div>\n",
       "<style scoped>\n",
       "    .dataframe tbody tr th:only-of-type {\n",
       "        vertical-align: middle;\n",
       "    }\n",
       "\n",
       "    .dataframe tbody tr th {\n",
       "        vertical-align: top;\n",
       "    }\n",
       "\n",
       "    .dataframe thead th {\n",
       "        text-align: right;\n",
       "    }\n",
       "</style>\n",
       "<table border=\"1\" class=\"dataframe\">\n",
       "  <thead>\n",
       "    <tr style=\"text-align: right;\">\n",
       "      <th></th>\n",
       "      <th>sentiment</th>\n",
       "      <th>comment</th>\n",
       "    </tr>\n",
       "  </thead>\n",
       "  <tbody>\n",
       "    <tr>\n",
       "      <th>0</th>\n",
       "      <td>5</td>\n",
       "      <td>Chất lượng sản phẩm:tốt Đúng với mô tả:đẹp  Hà...</td>\n",
       "    </tr>\n",
       "    <tr>\n",
       "      <th>1</th>\n",
       "      <td>5</td>\n",
       "      <td>Với giá thành này thì hàng khá ổn . Bị lỗi pin...</td>\n",
       "    </tr>\n",
       "    <tr>\n",
       "      <th>2</th>\n",
       "      <td>5</td>\n",
       "      <td>Tính năng nổi bật:máy sáng Đúng với mô tả:chuẩ...</td>\n",
       "    </tr>\n",
       "    <tr>\n",
       "      <th>3</th>\n",
       "      <td>4</td>\n",
       "      <td>Máy đã thay vỏ nên ngoại hình đẹp, dùng làm má...</td>\n",
       "    </tr>\n",
       "    <tr>\n",
       "      <th>4</th>\n",
       "      <td>5</td>\n",
       "      <td>Chất lượng sản phẩm:sản phẩm dùng ổn định  Máy...</td>\n",
       "    </tr>\n",
       "    <tr>\n",
       "      <th>5</th>\n",
       "      <td>5</td>\n",
       "      <td>Rất oke nè giá học sinh sinh viên shop rất uy ...</td>\n",
       "    </tr>\n",
       "    <tr>\n",
       "      <th>6</th>\n",
       "      <td>5</td>\n",
       "      <td>Chất lượng sản phẩm:ok mọi thứ tạm ổn so với t...</td>\n",
       "    </tr>\n",
       "    <tr>\n",
       "      <th>7</th>\n",
       "      <td>1</td>\n",
       "      <td>Mọi người k nên mua nha..shop bán điện thoại q...</td>\n",
       "    </tr>\n",
       "    <tr>\n",
       "      <th>8</th>\n",
       "      <td>5</td>\n",
       "      <td>Hàng tốt .. đt mới tinh mớii tinh mọi người nê...</td>\n",
       "    </tr>\n",
       "    <tr>\n",
       "      <th>9</th>\n",
       "      <td>5</td>\n",
       "      <td>Máy ok  Ship hàng nhanh</td>\n",
       "    </tr>\n",
       "  </tbody>\n",
       "</table>\n",
       "</div>"
      ],
      "text/plain": [
       "   sentiment                                            comment\n",
       "0          5  Chất lượng sản phẩm:tốt Đúng với mô tả:đẹp  Hà...\n",
       "1          5  Với giá thành này thì hàng khá ổn . Bị lỗi pin...\n",
       "2          5  Tính năng nổi bật:máy sáng Đúng với mô tả:chuẩ...\n",
       "3          4  Máy đã thay vỏ nên ngoại hình đẹp, dùng làm má...\n",
       "4          5  Chất lượng sản phẩm:sản phẩm dùng ổn định  Máy...\n",
       "5          5  Rất oke nè giá học sinh sinh viên shop rất uy ...\n",
       "6          5  Chất lượng sản phẩm:ok mọi thứ tạm ổn so với t...\n",
       "7          1  Mọi người k nên mua nha..shop bán điện thoại q...\n",
       "8          5  Hàng tốt .. đt mới tinh mớii tinh mọi người nê...\n",
       "9          5                            Máy ok  Ship hàng nhanh"
      ]
     },
     "execution_count": 4,
     "metadata": {},
     "output_type": "execute_result"
    }
   ],
   "source": [
    "data = pd.read_csv('dataset.csv')\n",
    "data.head(10)"
   ]
  },
  {
   "cell_type": "code",
   "execution_count": 5,
   "metadata": {},
   "outputs": [
    {
     "data": {
      "image/png": "[encoded data removed]",
      "text/plain": [
       "<Figure size 1000x500 with 1 Axes>"
      ]
     },
     "metadata": {},
     "output_type": "display_data"
    }
   ],
   "source": [
    "ax = data['sentiment'].value_counts().sort_index().plot(kind='bar', \n",
    "                                                        title='Count of reviews by starts',\n",
    "                                                        figsize=(10,5))\n",
    "ax.set_xlabel('Review start')\n",
    "plt.show()"
   ]
  },
  {
   "cell_type": "markdown",
   "metadata": {},
   "source": [
    "Pre Processing"
   ]
  },
  {
   "cell_type": "code",
   "execution_count": 6,
   "metadata": {},
   "outputs": [
    {
     "data": {
      "text/html": [
       "<div>\n",
       "<style scoped>\n",
       "    .dataframe tbody tr th:only-of-type {\n",
       "        vertical-align: middle;\n",
       "    }\n",
       "\n",
       "    .dataframe tbody tr th {\n",
       "        vertical-align: top;\n",
       "    }\n",
       "\n",
       "    .dataframe thead th {\n",
       "        text-align: right;\n",
       "    }\n",
       "</style>\n",
       "<table border=\"1\" class=\"dataframe\">\n",
       "  <thead>\n",
       "    <tr style=\"text-align: right;\">\n",
       "      <th></th>\n",
       "      <th>sentiment</th>\n",
       "      <th>comment</th>\n",
       "    </tr>\n",
       "  </thead>\n",
       "  <tbody>\n",
       "    <tr>\n",
       "      <th>0</th>\n",
       "      <td>5</td>\n",
       "      <td>chất sản phẩm mô tả đẹp hàng đẹp mua mượt shop...</td>\n",
       "    </tr>\n",
       "    <tr>\n",
       "      <th>1</th>\n",
       "      <td>5</td>\n",
       "      <td>giá thành hàng ổn lỗi pin shop gửi pin mk mk u...</td>\n",
       "    </tr>\n",
       "    <tr>\n",
       "      <th>2</th>\n",
       "      <td>5</td>\n",
       "      <td>năng nổi bật máy mô tả chuẩn chất sản phẩm hàn...</td>\n",
       "    </tr>\n",
       "    <tr>\n",
       "      <th>3</th>\n",
       "      <td>4</td>\n",
       "      <td>máy thay vỏ ngoại hình đẹp máy phụ ổn ngon nút...</td>\n",
       "    </tr>\n",
       "    <tr>\n",
       "      <th>4</th>\n",
       "      <td>5</td>\n",
       "      <td>chất sản phẩm sản phẩm ổn định máy đẹp lỗi gói...</td>\n",
       "    </tr>\n",
       "    <tr>\n",
       "      <th>5</th>\n",
       "      <td>5</td>\n",
       "      <td>oke nè giá học sinh sinh viên shop uy tín nhu ...</td>\n",
       "    </tr>\n",
       "    <tr>\n",
       "      <th>6</th>\n",
       "      <td>5</td>\n",
       "      <td>chất sản phẩm ok tạm ổn tầm giá mô tả</td>\n",
       "    </tr>\n",
       "    <tr>\n",
       "      <th>7</th>\n",
       "      <td>1</td>\n",
       "      <td>k mua nha shop điện thoại tệ vs giá tệ nhân ph...</td>\n",
       "    </tr>\n",
       "    <tr>\n",
       "      <th>8</th>\n",
       "      <td>5</td>\n",
       "      <td>hàng đt tinh mớii tinh mua</td>\n",
       "    </tr>\n",
       "    <tr>\n",
       "      <th>9</th>\n",
       "      <td>5</td>\n",
       "      <td>máy ok ship hàng</td>\n",
       "    </tr>\n",
       "  </tbody>\n",
       "</table>\n",
       "</div>"
      ],
      "text/plain": [
       "   sentiment                                            comment\n",
       "0          5  chất sản phẩm mô tả đẹp hàng đẹp mua mượt shop...\n",
       "1          5  giá thành hàng ổn lỗi pin shop gửi pin mk mk u...\n",
       "2          5  năng nổi bật máy mô tả chuẩn chất sản phẩm hàn...\n",
       "3          4  máy thay vỏ ngoại hình đẹp máy phụ ổn ngon nút...\n",
       "4          5  chất sản phẩm sản phẩm ổn định máy đẹp lỗi gói...\n",
       "5          5  oke nè giá học sinh sinh viên shop uy tín nhu ...\n",
       "6          5              chất sản phẩm ok tạm ổn tầm giá mô tả\n",
       "7          1  k mua nha shop điện thoại tệ vs giá tệ nhân ph...\n",
       "8          5                         hàng đt tinh mớii tinh mua\n",
       "9          5                                   máy ok ship hàng"
      ]
     },
     "execution_count": 6,
     "metadata": {},
     "output_type": "execute_result"
    }
   ],
   "source": [
    "# Defining regex patterns.\n",
    "urlPattern        = r\"((http://)[^ ]*|(https://)[^ ]*|(www\\.)[^ ]*)\"\n",
    "alphaPattern      = \"[^a-z0-9<>]\"\n",
    "sequencePattern   = r\"(.)\\1\\1+\"\n",
    "seqReplacePattern = r\"\\1\\1\"\n",
    "\n",
    "# Defining regex for emojis\n",
    "smile_emoji        = r\"[8:=;]['`\\-]?[)d]+\"\n",
    "sad_emoji          = r\"[8:=;]['`\\-]?\\(+\"\n",
    "neutral_emoji      = r\"[8:=;]['`\\-]?[\\/|l*]\"\n",
    "lol_emoji          = r\"[8:=;]['`\\-]?p+\"\n",
    "\n",
    "def preprocess(input:str):\n",
    "    data = requests.urlopen(r\"https://raw.githubusercontent.com/stopwords/vietnamese-stopwords/master/vietnamese-stopwords-dash.txt\")\n",
    "    stop_words = [item.decode(\"utf-8\").strip() for item in list(data)]\n",
    "    # Lower\n",
    "    input = input.lower()\n",
    "    # clean\n",
    "    input = input.strip().replace('\\n', '')\n",
    "\n",
    "    # Replace 3 or more consecutive letters by 2 letter.\n",
    "    input = re.sub(sequencePattern, seqReplacePattern, input)\n",
    "    \n",
    "    # Replace all emojis.\n",
    "    input = re.sub(r'<3', 'tim', input)\n",
    "    input = re.sub(smile_emoji, 'cười', input)\n",
    "    input = re.sub(sad_emoji, 'buồn', input)\n",
    "    input = re.sub(neutral_emoji, 'bình thường', input)\n",
    "    input = re.sub(lol_emoji, 'vui', input)\n",
    "    \n",
    "    # Keep word\n",
    "    input = re.sub('\\[.*?\\]', ' ', input)\n",
    "    input = re.sub('https?://\\S+|www\\.\\S+', ' ', input)\n",
    "    input = re.sub('<.*?>+', ' ', input)\n",
    "    input = re.sub('[%s]' % re.escape(string.punctuation), ' ', input)\n",
    "    input = re.sub('\\n', ' ', input)\n",
    "    input = re.sub('\\w*\\d\\w*', ' ', input)\n",
    "    \n",
    "    return ' '.join([word for word in input.split() if word not in stop_words])\n",
    "\n",
    "data.dropna()\n",
    "data[\"comment\"] = data[\"comment\"].apply(lambda x: preprocess(x))\n",
    "data.head(10)"
   ]
  },
  {
   "cell_type": "code",
   "execution_count": 7,
   "metadata": {},
   "outputs": [
    {
     "data": {
      "text/html": [
       "<div>\n",
       "<style scoped>\n",
       "    .dataframe tbody tr th:only-of-type {\n",
       "        vertical-align: middle;\n",
       "    }\n",
       "\n",
       "    .dataframe tbody tr th {\n",
       "        vertical-align: top;\n",
       "    }\n",
       "\n",
       "    .dataframe thead th {\n",
       "        text-align: right;\n",
       "    }\n",
       "</style>\n",
       "<table border=\"1\" class=\"dataframe\">\n",
       "  <thead>\n",
       "    <tr style=\"text-align: right;\">\n",
       "      <th></th>\n",
       "      <th>sentiment</th>\n",
       "      <th>comment</th>\n",
       "    </tr>\n",
       "  </thead>\n",
       "  <tbody>\n",
       "    <tr>\n",
       "      <th>0</th>\n",
       "      <td>1</td>\n",
       "      <td>chất sản phẩm mô tả đẹp hàng đẹp mua mượt shop...</td>\n",
       "    </tr>\n",
       "    <tr>\n",
       "      <th>1</th>\n",
       "      <td>1</td>\n",
       "      <td>giá thành hàng ổn lỗi pin shop gửi pin mk mk u...</td>\n",
       "    </tr>\n",
       "    <tr>\n",
       "      <th>2</th>\n",
       "      <td>1</td>\n",
       "      <td>năng nổi bật máy mô tả chuẩn chất sản phẩm hàn...</td>\n",
       "    </tr>\n",
       "    <tr>\n",
       "      <th>3</th>\n",
       "      <td>0</td>\n",
       "      <td>máy thay vỏ ngoại hình đẹp máy phụ ổn ngon nút...</td>\n",
       "    </tr>\n",
       "    <tr>\n",
       "      <th>4</th>\n",
       "      <td>1</td>\n",
       "      <td>chất sản phẩm sản phẩm ổn định máy đẹp lỗi gói...</td>\n",
       "    </tr>\n",
       "    <tr>\n",
       "      <th>5</th>\n",
       "      <td>1</td>\n",
       "      <td>oke nè giá học sinh sinh viên shop uy tín nhu ...</td>\n",
       "    </tr>\n",
       "    <tr>\n",
       "      <th>6</th>\n",
       "      <td>1</td>\n",
       "      <td>chất sản phẩm ok tạm ổn tầm giá mô tả</td>\n",
       "    </tr>\n",
       "    <tr>\n",
       "      <th>7</th>\n",
       "      <td>0</td>\n",
       "      <td>k mua nha shop điện thoại tệ vs giá tệ nhân ph...</td>\n",
       "    </tr>\n",
       "    <tr>\n",
       "      <th>8</th>\n",
       "      <td>1</td>\n",
       "      <td>hàng đt tinh mớii tinh mua</td>\n",
       "    </tr>\n",
       "    <tr>\n",
       "      <th>9</th>\n",
       "      <td>1</td>\n",
       "      <td>máy ok ship hàng</td>\n",
       "    </tr>\n",
       "  </tbody>\n",
       "</table>\n",
       "</div>"
      ],
      "text/plain": [
       "   sentiment                                            comment\n",
       "0          1  chất sản phẩm mô tả đẹp hàng đẹp mua mượt shop...\n",
       "1          1  giá thành hàng ổn lỗi pin shop gửi pin mk mk u...\n",
       "2          1  năng nổi bật máy mô tả chuẩn chất sản phẩm hàn...\n",
       "3          0  máy thay vỏ ngoại hình đẹp máy phụ ổn ngon nút...\n",
       "4          1  chất sản phẩm sản phẩm ổn định máy đẹp lỗi gói...\n",
       "5          1  oke nè giá học sinh sinh viên shop uy tín nhu ...\n",
       "6          1              chất sản phẩm ok tạm ổn tầm giá mô tả\n",
       "7          0  k mua nha shop điện thoại tệ vs giá tệ nhân ph...\n",
       "8          1                         hàng đt tinh mớii tinh mua\n",
       "9          1                                   máy ok ship hàng"
      ]
     },
     "execution_count": 7,
     "metadata": {},
     "output_type": "execute_result"
    }
   ],
   "source": [
    "def scale(x):\n",
    "    if x == 5:\n",
    "        return 1\n",
    "    return 0\n",
    "data[\"sentiment\"] = data[\"sentiment\"].apply(lambda x: scale(x))\n",
    "data.head(10)"
   ]
  },
  {
   "cell_type": "code",
   "execution_count": 9,
   "metadata": {},
   "outputs": [],
   "source": [
    "from tensorflow.keras.preprocessing.text import Tokenizer\n",
    "from tensorflow.keras.preprocessing.sequence import pad_sequences\n",
    "from tensorflow.keras.models import Sequential\n",
    "from tensorflow.keras.layers import Dense, Embedding, LSTM, Flatten\n",
    "from sklearn.model_selection import train_test_split\n"
   ]
  },
  {
   "cell_type": "code",
   "execution_count": 10,
   "metadata": {},
   "outputs": [
    {
     "name": "stdout",
     "output_type": "stream",
     "text": [
      "giá thành hàng ổn lỗi pin shop gửi pin mk mk uy tín chúc shop buôn may đắt mua 1\n"
     ]
    }
   ],
   "source": [
    "vocab_size = 10000\n",
    "embedding_dim = 64\n",
    "max_length = 50\n",
    "\n",
    "sequences = data.comment\n",
    "labels = data.sentiment\n",
    "\n",
    "tokenizer = Tokenizer(num_words=vocab_size, oov_token='<OOV>')\n",
    "tokenizer.fit_on_texts(sequences)\n",
    "print(sequences[1],labels[1])"
   ]
  },
  {
   "cell_type": "code",
   "execution_count": 11,
   "metadata": {},
   "outputs": [],
   "source": [
    "X_train, X_test, train_labels, test_labels = train_test_split(sequences, labels, test_size = 0.2, random_state = 42)"
   ]
  },
  {
   "cell_type": "code",
   "execution_count": 12,
   "metadata": {},
   "outputs": [
    {
     "data": {
      "text/plain": [
       "array([[ 85, 119,   0, ...,   0,   0,   0],\n",
       "       [ 13,   9, 120, ...,   0,   0,   0],\n",
       "       [  6,   2,   3, ...,   0,   0,   0],\n",
       "       ...,\n",
       "       [ 24,  26,  27, ...,   0,   0,   0],\n",
       "       [ 16,  41, 129, ...,   0,   0,   0],\n",
       "       [  6,   2, 125, ...,   0,   0,   0]])"
      ]
     },
     "execution_count": 12,
     "metadata": {},
     "output_type": "execute_result"
    }
   ],
   "source": [
    "train_sequences = tokenizer.texts_to_sequences(X_train)\n",
    "padded_train_sequences = pad_sequences(train_sequences, maxlen=max_length, truncating='post', padding='post')\n",
    "padded_train_sequences"
   ]
  },
  {
   "cell_type": "code",
   "execution_count": 13,
   "metadata": {},
   "outputs": [
    {
     "data": {
      "text/plain": [
       "(505, 50)"
      ]
     },
     "execution_count": 13,
     "metadata": {},
     "output_type": "execute_result"
    }
   ],
   "source": [
    "test_sequences = tokenizer.texts_to_sequences(X_test)\n",
    "padded_test_sequences = pad_sequences(test_sequences, maxlen=max_length, truncating='post', padding='post')\n",
    "padded_test_sequences.shape"
   ]
  },
  {
   "cell_type": "markdown",
   "metadata": {},
   "source": [
    "Model"
   ]
  },
  {
   "cell_type": "code",
   "execution_count": 14,
   "metadata": {},
   "outputs": [],
   "source": [
    "\n",
    "from tensorflow.keras.models import Sequential\n",
    "from tensorflow.keras.layers import Dense, Embedding, LSTM, SpatialDropout1D, Flatten, Bidirectional\n",
    "from sklearn.feature_extraction.text import CountVectorizer\n",
    "from sklearn.model_selection import train_test_split\n",
    "from keras.utils.np_utils import to_categorical\n",
    "import plotly.express as px\n"
   ]
  },
  {
   "cell_type": "code",
   "execution_count": 19,
   "metadata": {},
   "outputs": [
    {
     "name": "stdout",
     "output_type": "stream",
     "text": [
      "Model: \"sequential_1\"\n",
      "_________________________________________________________________\n",
      " Layer (type)                Output Shape              Param #   \n",
      "=================================================================\n",
      " embedding_1 (Embedding)     (None, 50, 64)            640000    \n",
      "                                                                 \n",
      " bidirectional_1 (Bidirectio  (None, 50, 256)          197632    \n",
      " nal)                                                            \n",
      "                                                                 \n",
      " bidirectional_2 (Bidirectio  (None, 256)              394240    \n",
      " nal)                                                            \n",
      "                                                                 \n",
      " dense_2 (Dense)             (None, 10)                2570      \n",
      "                                                                 \n",
      " dense_3 (Dense)             (None, 1)                 11        \n",
      "                                                                 \n",
      "=================================================================\n",
      "Total params: 1,234,453\n",
      "Trainable params: 1,234,453\n",
      "Non-trainable params: 0\n",
      "_________________________________________________________________\n"
     ]
    }
   ],
   "source": [
    "model = Sequential()\n",
    "model.add(Embedding(vocab_size, embedding_dim, input_length=max_length))\n",
    "model.add(Bidirectional(LSTM(units=128, return_sequences=True)))\n",
    "model.add(Bidirectional(LSTM(units=128, return_sequences=False)))\n",
    "model.add(Dense(10, activation='relu'))\n",
    "model.add(Dense(1, activation='sigmoid'))\n",
    "model.compile(loss='binary_crossentropy', optimizer='adam', metrics=['accuracy'])\n",
    "model.summary()"
   ]
  },
  {
   "cell_type": "code",
   "execution_count": 20,
   "metadata": {},
   "outputs": [
    {
     "name": "stdout",
     "output_type": "stream",
     "text": [
      "Epoch 1/20\n",
      "64/64 [==============================] - 12s 106ms/step - loss: 0.5499 - accuracy: 0.7449 - val_loss: 0.4382 - val_accuracy: 0.7980\n",
      "Epoch 2/20\n",
      "64/64 [==============================] - 6s 98ms/step - loss: 0.3756 - accuracy: 0.8400 - val_loss: 0.4157 - val_accuracy: 0.8218\n",
      "Epoch 3/20\n",
      "64/64 [==============================] - 6s 98ms/step - loss: 0.3036 - accuracy: 0.8787 - val_loss: 0.4304 - val_accuracy: 0.7941\n",
      "Epoch 4/20\n",
      "64/64 [==============================] - 6s 95ms/step - loss: 0.2643 - accuracy: 0.9004 - val_loss: 0.4290 - val_accuracy: 0.8079\n",
      "Epoch 5/20\n",
      "64/64 [==============================] - 6s 95ms/step - loss: 0.2203 - accuracy: 0.9212 - val_loss: 0.5242 - val_accuracy: 0.7861\n",
      "Epoch 6/20\n",
      "64/64 [==============================] - 6s 95ms/step - loss: 0.1804 - accuracy: 0.9396 - val_loss: 0.5799 - val_accuracy: 0.7802\n",
      "Epoch 7/20\n",
      "64/64 [==============================] - 6s 95ms/step - loss: 0.1610 - accuracy: 0.9435 - val_loss: 0.5237 - val_accuracy: 0.7782\n",
      "Epoch 8/20\n",
      "64/64 [==============================] - 6s 97ms/step - loss: 0.1592 - accuracy: 0.9425 - val_loss: 0.6386 - val_accuracy: 0.7743\n",
      "Epoch 9/20\n",
      "64/64 [==============================] - 7s 103ms/step - loss: 0.1793 - accuracy: 0.9401 - val_loss: 0.6789 - val_accuracy: 0.7743\n",
      "Epoch 10/20\n",
      "64/64 [==============================] - 6s 94ms/step - loss: 0.2290 - accuracy: 0.9069 - val_loss: 0.5599 - val_accuracy: 0.7802\n",
      "Epoch 11/20\n",
      "64/64 [==============================] - 6s 99ms/step - loss: 0.1412 - accuracy: 0.9520 - val_loss: 0.6213 - val_accuracy: 0.7881\n",
      "Epoch 12/20\n",
      "64/64 [==============================] - 7s 102ms/step - loss: 0.1135 - accuracy: 0.9604 - val_loss: 0.7426 - val_accuracy: 0.7703\n",
      "Epoch 13/20\n",
      "64/64 [==============================] - 6s 100ms/step - loss: 0.1073 - accuracy: 0.9609 - val_loss: 1.0612 - val_accuracy: 0.7069\n",
      "Epoch 14/20\n",
      "64/64 [==============================] - 6s 102ms/step - loss: 0.1032 - accuracy: 0.9604 - val_loss: 0.7788 - val_accuracy: 0.7802\n",
      "Epoch 15/20\n",
      "64/64 [==============================] - 7s 103ms/step - loss: 0.0913 - accuracy: 0.9708 - val_loss: 1.0071 - val_accuracy: 0.7327\n",
      "Epoch 16/20\n",
      "64/64 [==============================] - 6s 101ms/step - loss: 0.1045 - accuracy: 0.9638 - val_loss: 0.7658 - val_accuracy: 0.7782\n",
      "Epoch 17/20\n",
      "64/64 [==============================] - 6s 98ms/step - loss: 0.1009 - accuracy: 0.9609 - val_loss: 0.8467 - val_accuracy: 0.7861\n",
      "Epoch 18/20\n",
      "64/64 [==============================] - 6s 97ms/step - loss: 0.0783 - accuracy: 0.9737 - val_loss: 0.9384 - val_accuracy: 0.7723\n",
      "Epoch 19/20\n",
      "64/64 [==============================] - 7s 104ms/step - loss: 0.0689 - accuracy: 0.9802 - val_loss: 1.0706 - val_accuracy: 0.7644\n",
      "Epoch 20/20\n",
      "64/64 [==============================] - 6s 101ms/step - loss: 0.0720 - accuracy: 0.9772 - val_loss: 0.9612 - val_accuracy: 0.7644\n"
     ]
    }
   ],
   "source": [
    "history = model.fit(padded_train_sequences, train_labels, epochs=20, validation_data=(padded_test_sequences, test_labels))"
   ]
  },
  {
   "cell_type": "code",
   "execution_count": 21,
   "metadata": {},
   "outputs": [
    {
     "data": {
      "text/plain": [
       "<matplotlib.legend.Legend at 0x2e3c895b610>"
      ]
     },
     "execution_count": 21,
     "metadata": {},
     "output_type": "execute_result"
    },
    {
     "data": {
      "image/png": "[encoded data removed]",
      "text/plain": [
       "<Figure size 640x480 with 2 Axes>"
      ]
     },
     "metadata": {},
     "output_type": "display_data"
    }
   ],
   "source": [
    "s, (at, al) = plt.subplots(2,1)\n",
    "at.plot(history.history['accuracy'], c= 'b')\n",
    "at.plot(history.history['val_accuracy'], c='r')\n",
    "at.set_title('model accuracy')\n",
    "at.set_ylabel('accuracy')\n",
    "at.set_xlabel('epoch')\n",
    "at.legend(['Bi_LSTM_train', 'Bi_LSTM_val'], loc='upper left')\n",
    "\n",
    "al.plot(history.history['loss'], c='m')\n",
    "al.plot(history.history['val_loss'], c='c')\n",
    "al.set_title('model loss')\n",
    "al.set_ylabel('loss')\n",
    "al.set_xlabel('epoch')\n",
    "al.legend(['train', 'val'], loc = 'upper left')"
   ]
  },
  {
   "cell_type": "code",
   "execution_count": 40,
   "metadata": {},
   "outputs": [
    {
     "name": "stdout",
     "output_type": "stream",
     "text": [
      "1/1 [==============================] - 0s 35ms/step\n",
      "sản phẩm tốt : positive ([0.886])\n",
      "ổn : neutral ([0.631])\n",
      "k ổn : negative ([0.365])\n",
      "tệ : negative ([0.163])\n",
      "giao sai hàng : negative ([0.16])\n",
      "tạm được : neutral ([0.508])\n",
      "tim : positive ([0.918])\n"
     ]
    }
   ],
   "source": [
    "text = ['sản phẩm tốt', 'ổn', 'k ổn', 'tệ', 'giao sai hàng', 'tạm được', 'tim']\n",
    "text_tokenizer = tokenizer.texts_to_sequences(text)\n",
    "padded_test = pad_sequences(text_tokenizer, maxlen=max_length, truncating='post', padding='post')\n",
    "y_predict = model.predict(padded_test)\n",
    "\n",
    "def sentiment(x:int):\n",
    "    if x > 0.7:\n",
    "        return 'positive'\n",
    "    if x > 0.4:\n",
    "        return 'neutral'\n",
    "    return 'negative'\n",
    "\n",
    "for t, pred in zip(text, y_predict):\n",
    "    #print(text,':', sentiment(pred), pred)\n",
    "    print(f'{t} : {sentiment(pred)} ({pred.round(decimals=3)})')"
   ]
  }
 ],
 "metadata": {
  "kernelspec": {
   "display_name": "Python 3.10.6 64-bit",
   "language": "python",
   "name": "python3"
  },
  "language_info": {
   "codemirror_mode": {
    "name": "ipython",
    "version": 3
   },
   "file_extension": ".py",
   "mimetype": "text/x-python",
   "name": "python",
   "nbconvert_exporter": "python",
   "pygments_lexer": "ipython3",
   "version": "3.10.6"
  },
  "orig_nbformat": 4,
  "vscode": {
   "interpreter": {
    "hash": "82258a55d1500764d1b3d80f19af3c76a05d58cf47ccab85c75254e5aad3c4be"
   }
  }
 },
 "nbformat": 4,
 "nbformat_minor": 2
}
