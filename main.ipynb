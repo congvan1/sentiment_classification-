{
 "cells": [
  {
   "cell_type": "code",
   "execution_count": 262,
   "metadata": {},
   "outputs": [
    {
     "data": {
      "text/html": [
       "<div>\n",
       "<style scoped>\n",
       "    .dataframe tbody tr th:only-of-type {\n",
       "        vertical-align: middle;\n",
       "    }\n",
       "\n",
       "    .dataframe tbody tr th {\n",
       "        vertical-align: top;\n",
       "    }\n",
       "\n",
       "    .dataframe thead th {\n",
       "        text-align: right;\n",
       "    }\n",
       "</style>\n",
       "<table border=\"1\" class=\"dataframe\">\n",
       "  <thead>\n",
       "    <tr style=\"text-align: right;\">\n",
       "      <th></th>\n",
       "      <th>sentiment</th>\n",
       "      <th>comment</th>\n",
       "    </tr>\n",
       "  </thead>\n",
       "  <tbody>\n",
       "    <tr>\n",
       "      <th>0</th>\n",
       "      <td>negative</td>\n",
       "      <td>﻿nói thật APPLE xài chán , đang xài ip_6_plus ...</td>\n",
       "    </tr>\n",
       "    <tr>\n",
       "      <th>1</th>\n",
       "      <td>negative</td>\n",
       "      <td>Ah con bác bắt wifi thế_nào . Sao mình thấy hơ...</td>\n",
       "    </tr>\n",
       "    <tr>\n",
       "      <th>2</th>\n",
       "      <td>negative</td>\n",
       "      <td>kiếm cái logo táo dán lên_mặt sau nữa_là y_cha...</td>\n",
       "    </tr>\n",
       "    <tr>\n",
       "      <th>3</th>\n",
       "      <td>positive</td>\n",
       "      <td>rất đáng mua đặc_biệt hàng Nhật luôn có_tiếng ...</td>\n",
       "    </tr>\n",
       "    <tr>\n",
       "      <th>4</th>\n",
       "      <td>positive</td>\n",
       "      <td>Đặt AW vô những nước phát_triển như Mỹ , Úc , ...</td>\n",
       "    </tr>\n",
       "  </tbody>\n",
       "</table>\n",
       "</div>"
      ],
      "text/plain": [
       "  sentiment                                            comment\n",
       "0  negative  ﻿nói thật APPLE xài chán , đang xài ip_6_plus ...\n",
       "1  negative  Ah con bác bắt wifi thế_nào . Sao mình thấy hơ...\n",
       "2  negative  kiếm cái logo táo dán lên_mặt sau nữa_là y_cha...\n",
       "3  positive  rất đáng mua đặc_biệt hàng Nhật luôn có_tiếng ...\n",
       "4  positive  Đặt AW vô những nước phát_triển như Mỹ , Úc , ..."
      ]
     },
     "execution_count": 262,
     "metadata": {},
     "output_type": "execute_result"
    }
   ],
   "source": [
    "import pandas as pd\n",
    "import matplotlib.pyplot as plt\n",
    "import seaborn as sns\n",
    "\n",
    "data = pd.read_csv('dataset.csv')\n",
    "data.head()"
   ]
  },
  {
   "cell_type": "code",
   "execution_count": 263,
   "metadata": {},
   "outputs": [
    {
     "data": {
      "text/plain": [
       "<AxesSubplot:xlabel='sentiment', ylabel='count'>"
      ]
     },
     "execution_count": 263,
     "metadata": {},
     "output_type": "execute_result"
    },
    {
     "data": {
      "image/png": "[encoded data removed]",
      "text/plain": [
       "<Figure size 1200x600 with 1 Axes>"
      ]
     },
     "metadata": {},
     "output_type": "display_data"
    }
   ],
   "source": [
    "plt.figure(figsize=(12,6))\n",
    "sns.countplot(x='sentiment',data=data)"
   ]
  },
  {
   "cell_type": "code",
   "execution_count": 264,
   "metadata": {},
   "outputs": [
    {
     "data": {
      "text/html": [
       "<style type=\"text/css\">\n",
       "#T_6b349_row0_col1 {\n",
       "  background-color: #3f007d;\n",
       "  color: #f1f1f1;\n",
       "}\n",
       "#T_6b349_row1_col1 {\n",
       "  background-color: #8e8ac0;\n",
       "  color: #f1f1f1;\n",
       "}\n",
       "#T_6b349_row2_col1 {\n",
       "  background-color: #fcfbfd;\n",
       "  color: #000000;\n",
       "}\n",
       "</style>\n",
       "<table id=\"T_6b349\">\n",
       "  <thead>\n",
       "    <tr>\n",
       "      <th class=\"blank level0\" >&nbsp;</th>\n",
       "      <th id=\"T_6b349_level0_col0\" class=\"col_heading level0 col0\" >sentiment</th>\n",
       "      <th id=\"T_6b349_level0_col1\" class=\"col_heading level0 col1\" >comment</th>\n",
       "    </tr>\n",
       "  </thead>\n",
       "  <tbody>\n",
       "    <tr>\n",
       "      <th id=\"T_6b349_level0_row0\" class=\"row_heading level0 row0\" >2</th>\n",
       "      <td id=\"T_6b349_row0_col0\" class=\"data row0 col0\" >positive</td>\n",
       "      <td id=\"T_6b349_row0_col1\" class=\"data row0 col1\" >475</td>\n",
       "    </tr>\n",
       "    <tr>\n",
       "      <th id=\"T_6b349_level0_row1\" class=\"row_heading level0 row1\" >0</th>\n",
       "      <td id=\"T_6b349_row1_col0\" class=\"data row1 col0\" >negative</td>\n",
       "      <td id=\"T_6b349_row1_col1\" class=\"data row1 col1\" >431</td>\n",
       "    </tr>\n",
       "    <tr>\n",
       "      <th id=\"T_6b349_level0_row2\" class=\"row_heading level0 row2\" >1</th>\n",
       "      <td id=\"T_6b349_row2_col0\" class=\"data row2 col0\" >neutral</td>\n",
       "      <td id=\"T_6b349_row2_col1\" class=\"data row2 col1\" >373</td>\n",
       "    </tr>\n",
       "  </tbody>\n",
       "</table>\n"
      ],
      "text/plain": [
       "<pandas.io.formats.style.Styler at 0x1aec4524220>"
      ]
     },
     "execution_count": 264,
     "metadata": {},
     "output_type": "execute_result"
    }
   ],
   "source": [
    "temp = data.groupby('sentiment').count()['comment'].reset_index().sort_values(by='comment',ascending=False)\n",
    "temp.style.background_gradient(cmap='Purples')"
   ]
  },
  {
   "cell_type": "code",
   "execution_count": 265,
   "metadata": {},
   "outputs": [
    {
     "data": {
      "text/html": [
       "<style type=\"text/css\">\n",
       "#T_4afcc_row0_col1 {\n",
       "  background-color: #08306b;\n",
       "  color: #f1f1f1;\n",
       "}\n",
       "#T_4afcc_row1_col1 {\n",
       "  background-color: #084a91;\n",
       "  color: #f1f1f1;\n",
       "}\n",
       "#T_4afcc_row2_col1 {\n",
       "  background-color: #d3e4f3;\n",
       "  color: #000000;\n",
       "}\n",
       "#T_4afcc_row3_col1 {\n",
       "  background-color: #d8e7f5;\n",
       "  color: #000000;\n",
       "}\n",
       "#T_4afcc_row4_col1 {\n",
       "  background-color: #dbe9f6;\n",
       "  color: #000000;\n",
       "}\n",
       "#T_4afcc_row5_col1 {\n",
       "  background-color: #e7f1fa;\n",
       "  color: #000000;\n",
       "}\n",
       "#T_4afcc_row6_col1, #T_4afcc_row7_col1, #T_4afcc_row8_col1 {\n",
       "  background-color: #eef5fc;\n",
       "  color: #000000;\n",
       "}\n",
       "#T_4afcc_row9_col1 {\n",
       "  background-color: #eff6fc;\n",
       "  color: #000000;\n",
       "}\n",
       "#T_4afcc_row10_col1 {\n",
       "  background-color: #f3f8fe;\n",
       "  color: #000000;\n",
       "}\n",
       "#T_4afcc_row11_col1 {\n",
       "  background-color: #f5f9fe;\n",
       "  color: #000000;\n",
       "}\n",
       "#T_4afcc_row12_col1, #T_4afcc_row13_col1 {\n",
       "  background-color: #f6faff;\n",
       "  color: #000000;\n",
       "}\n",
       "#T_4afcc_row14_col1 {\n",
       "  background-color: #f7fbff;\n",
       "  color: #000000;\n",
       "}\n",
       "</style>\n",
       "<table id=\"T_4afcc\">\n",
       "  <thead>\n",
       "    <tr>\n",
       "      <th class=\"blank level0\" >&nbsp;</th>\n",
       "      <th id=\"T_4afcc_level0_col0\" class=\"col_heading level0 col0\" >Common_words</th>\n",
       "      <th id=\"T_4afcc_level0_col1\" class=\"col_heading level0 col1\" >count</th>\n",
       "    </tr>\n",
       "  </thead>\n",
       "  <tbody>\n",
       "    <tr>\n",
       "      <th id=\"T_4afcc_level0_row0\" class=\"row_heading level0 row0\" >0</th>\n",
       "      <td id=\"T_4afcc_row0_col0\" class=\"data row0 col0\" >.</td>\n",
       "      <td id=\"T_4afcc_row0_col1\" class=\"data row0 col1\" >1922</td>\n",
       "    </tr>\n",
       "    <tr>\n",
       "      <th id=\"T_4afcc_level0_row1\" class=\"row_heading level0 row1\" >1</th>\n",
       "      <td id=\"T_4afcc_row1_col0\" class=\"data row1 col0\" >,</td>\n",
       "      <td id=\"T_4afcc_row1_col1\" class=\"data row1 col1\" >1762</td>\n",
       "    </tr>\n",
       "    <tr>\n",
       "      <th id=\"T_4afcc_level0_row2\" class=\"row_heading level0 row2\" >2</th>\n",
       "      <td id=\"T_4afcc_row2_col0\" class=\"data row2 col0\" >là</td>\n",
       "      <td id=\"T_4afcc_row2_col1\" class=\"data row2 col1\" >592</td>\n",
       "    </tr>\n",
       "    <tr>\n",
       "      <th id=\"T_4afcc_level0_row3\" class=\"row_heading level0 row3\" >3</th>\n",
       "      <td id=\"T_4afcc_row3_col0\" class=\"data row3 col0\" >có</td>\n",
       "      <td id=\"T_4afcc_row3_col1\" class=\"data row3 col1\" >553</td>\n",
       "    </tr>\n",
       "    <tr>\n",
       "      <th id=\"T_4afcc_level0_row4\" class=\"row_heading level0 row4\" >4</th>\n",
       "      <td id=\"T_4afcc_row4_col0\" class=\"data row4 col0\" >thì</td>\n",
       "      <td id=\"T_4afcc_row4_col1\" class=\"data row4 col1\" >529</td>\n",
       "    </tr>\n",
       "    <tr>\n",
       "      <th id=\"T_4afcc_level0_row5\" class=\"row_heading level0 row5\" >5</th>\n",
       "      <td id=\"T_4afcc_row5_col0\" class=\"data row5 col0\" >không</td>\n",
       "      <td id=\"T_4afcc_row5_col1\" class=\"data row5 col1\" >422</td>\n",
       "    </tr>\n",
       "    <tr>\n",
       "      <th id=\"T_4afcc_level0_row6\" class=\"row_heading level0 row6\" >6</th>\n",
       "      <td id=\"T_4afcc_row6_col0\" class=\"data row6 col0\" >và</td>\n",
       "      <td id=\"T_4afcc_row6_col1\" class=\"data row6 col1\" >373</td>\n",
       "    </tr>\n",
       "    <tr>\n",
       "      <th id=\"T_4afcc_level0_row7\" class=\"row_heading level0 row7\" >7</th>\n",
       "      <td id=\"T_4afcc_row7_col0\" class=\"data row7 col0\" >của</td>\n",
       "      <td id=\"T_4afcc_row7_col1\" class=\"data row7 col1\" >364</td>\n",
       "    </tr>\n",
       "    <tr>\n",
       "      <th id=\"T_4afcc_level0_row8\" class=\"row_heading level0 row8\" >8</th>\n",
       "      <td id=\"T_4afcc_row8_col0\" class=\"data row8 col0\" >dùng</td>\n",
       "      <td id=\"T_4afcc_row8_col1\" class=\"data row8 col1\" >364</td>\n",
       "    </tr>\n",
       "    <tr>\n",
       "      <th id=\"T_4afcc_level0_row9\" class=\"row_heading level0 row9\" >9</th>\n",
       "      <td id=\"T_4afcc_row9_col0\" class=\"data row9 col0\" >mình</td>\n",
       "      <td id=\"T_4afcc_row9_col1\" class=\"data row9 col1\" >361</td>\n",
       "    </tr>\n",
       "    <tr>\n",
       "      <th id=\"T_4afcc_level0_row10\" class=\"row_heading level0 row10\" >10</th>\n",
       "      <td id=\"T_4afcc_row10_col0\" class=\"data row10 col0\" >cũng</td>\n",
       "      <td id=\"T_4afcc_row10_col1\" class=\"data row10 col1\" >327</td>\n",
       "    </tr>\n",
       "    <tr>\n",
       "      <th id=\"T_4afcc_level0_row11\" class=\"row_heading level0 row11\" >11</th>\n",
       "      <td id=\"T_4afcc_row11_col0\" class=\"data row11 col0\" >cái</td>\n",
       "      <td id=\"T_4afcc_row11_col1\" class=\"data row11 col1\" >319</td>\n",
       "    </tr>\n",
       "    <tr>\n",
       "      <th id=\"T_4afcc_level0_row12\" class=\"row_heading level0 row12\" >12</th>\n",
       "      <td id=\"T_4afcc_row12_col0\" class=\"data row12 col0\" >được</td>\n",
       "      <td id=\"T_4afcc_row12_col1\" class=\"data row12 col1\" >305</td>\n",
       "    </tr>\n",
       "    <tr>\n",
       "      <th id=\"T_4afcc_level0_row13\" class=\"row_heading level0 row13\" >13</th>\n",
       "      <td id=\"T_4afcc_row13_col0\" class=\"data row13 col0\" >này</td>\n",
       "      <td id=\"T_4afcc_row13_col1\" class=\"data row13 col1\" >302</td>\n",
       "    </tr>\n",
       "    <tr>\n",
       "      <th id=\"T_4afcc_level0_row14\" class=\"row_heading level0 row14\" >14</th>\n",
       "      <td id=\"T_4afcc_row14_col0\" class=\"data row14 col0\" >mà</td>\n",
       "      <td id=\"T_4afcc_row14_col1\" class=\"data row14 col1\" >294</td>\n",
       "    </tr>\n",
       "  </tbody>\n",
       "</table>\n"
      ],
      "text/plain": [
       "<pandas.io.formats.style.Styler at 0x1aedb6c6ef0>"
      ]
     },
     "execution_count": 265,
     "metadata": {},
     "output_type": "execute_result"
    }
   ],
   "source": [
    "words = data['comment'].apply(lambda x:str(x).split())\n",
    "top = Counter([item for sublist in words for item in sublist])\n",
    "temp = pd.DataFrame(top.most_common(15))\n",
    "temp.columns = ['Common_words','count']\n",
    "temp.style.background_gradient(cmap='Blues')"
   ]
  },
  {
   "cell_type": "markdown",
   "metadata": {},
   "source": [
    "Preprocessing"
   ]
  },
  {
   "cell_type": "code",
   "execution_count": 266,
   "metadata": {},
   "outputs": [],
   "source": [
    "import numpy as np \n",
    "import pandas as pd \n",
    "import urllib.request as requests\n",
    "import re\n",
    "from collections import Counter\n",
    "import string\n",
    "\n",
    "\n",
    "from tensorflow.keras.preprocessing.text import Tokenizer\n",
    "from tensorflow.keras.preprocessing.sequence import pad_sequences\n",
    "from tensorflow.keras.models import Sequential\n",
    "from tensorflow.keras.layers import Dense, Embedding, LSTM, SpatialDropout1D\n",
    "from sklearn.feature_extraction.text import CountVectorizer\n",
    "from sklearn.model_selection import train_test_split\n",
    "from keras.utils.np_utils import to_categorical\n",
    "import plotly.express as px"
   ]
  },
  {
   "cell_type": "code",
   "execution_count": 267,
   "metadata": {},
   "outputs": [
    {
     "data": {
      "text/html": [
       "<div>\n",
       "<style scoped>\n",
       "    .dataframe tbody tr th:only-of-type {\n",
       "        vertical-align: middle;\n",
       "    }\n",
       "\n",
       "    .dataframe tbody tr th {\n",
       "        vertical-align: top;\n",
       "    }\n",
       "\n",
       "    .dataframe thead th {\n",
       "        text-align: right;\n",
       "    }\n",
       "</style>\n",
       "<table border=\"1\" class=\"dataframe\">\n",
       "  <thead>\n",
       "    <tr style=\"text-align: right;\">\n",
       "      <th></th>\n",
       "      <th>sentiment</th>\n",
       "      <th>comment</th>\n",
       "    </tr>\n",
       "  </thead>\n",
       "  <tbody>\n",
       "    <tr>\n",
       "      <th>0</th>\n",
       "      <td>negative</td>\n",
       "      <td>﻿nói apple xài chán xài lúcnào cậpnhật vá lỗi ...</td>\n",
       "    </tr>\n",
       "    <tr>\n",
       "      <th>1</th>\n",
       "      <td>negative</td>\n",
       "      <td>ah bắt wifi thếnào hơi kém</td>\n",
       "    </tr>\n",
       "    <tr>\n",
       "      <th>2</th>\n",
       "      <td>negative</td>\n",
       "      <td>kiếm logo táo dán lênmặt nữalà ychang</td>\n",
       "    </tr>\n",
       "    <tr>\n",
       "      <th>3</th>\n",
       "      <td>positive</td>\n",
       "      <td>mua đặcbiệt hàng nhật cótiếng độ bềnbỉ linhkiệ...</td>\n",
       "    </tr>\n",
       "    <tr>\n",
       "      <th>4</th>\n",
       "      <td>positive</td>\n",
       "      <td>aw vô pháttriển mỹ úc pháp đức nhật mộtvài châ...</td>\n",
       "    </tr>\n",
       "  </tbody>\n",
       "</table>\n",
       "</div>"
      ],
      "text/plain": [
       "  sentiment                                            comment\n",
       "0  negative  ﻿nói apple xài chán xài lúcnào cậpnhật vá lỗi ...\n",
       "1  negative                         ah bắt wifi thếnào hơi kém\n",
       "2  negative              kiếm logo táo dán lênmặt nữalà ychang\n",
       "3  positive  mua đặcbiệt hàng nhật cótiếng độ bềnbỉ linhkiệ...\n",
       "4  positive  aw vô pháttriển mỹ úc pháp đức nhật mộtvài châ..."
      ]
     },
     "execution_count": 267,
     "metadata": {},
     "output_type": "execute_result"
    }
   ],
   "source": [
    "\n",
    "# Preprocessing\n",
    "def preprocess(input:str):\n",
    "    data = requests.urlopen(r\"https://raw.githubusercontent.com/stopwords/vietnamese-stopwords/master/vietnamese-stopwords-dash.txt\")\n",
    "    stop_words = [item.decode(\"utf-8\").strip() for item in list(data)]\n",
    "    # Lower\n",
    "    input = input.lower()\n",
    "    # clean\n",
    "    input = input.strip().replace('\\n', '')\n",
    "    # Only words\n",
    "    input = re.sub('\\[.*?\\]', '', input)\n",
    "    input = re.sub('https?://\\S+|www\\.\\S+', '', input)\n",
    "    input = re.sub('<.*?>+', '', input)\n",
    "    input = re.sub('[%s]' % re.escape(string.punctuation), '', input)\n",
    "    input = re.sub('\\n', '', input)\n",
    "    input = re.sub('\\w*\\d\\w*', '', input)\n",
    "    \n",
    "    return ' '.join([item for item in input.split() if item not in stop_words])\n",
    "data.dropna()\n",
    "data[\"comment\"] = data[\"comment\"].apply(lambda x: preprocess(x))\n",
    "data.head()"
   ]
  },
  {
   "cell_type": "code",
   "execution_count": 268,
   "metadata": {},
   "outputs": [
    {
     "data": {
      "text/html": [
       "<style type=\"text/css\">\n",
       "#T_5443e_row0_col1 {\n",
       "  background-color: #08306b;\n",
       "  color: #f1f1f1;\n",
       "}\n",
       "#T_5443e_row1_col1 {\n",
       "  background-color: #083b7c;\n",
       "  color: #f1f1f1;\n",
       "}\n",
       "#T_5443e_row2_col1 {\n",
       "  background-color: #3f8fc5;\n",
       "  color: #f1f1f1;\n",
       "}\n",
       "#T_5443e_row3_col1 {\n",
       "  background-color: #87bddc;\n",
       "  color: #000000;\n",
       "}\n",
       "#T_5443e_row4_col1 {\n",
       "  background-color: #89bedc;\n",
       "  color: #000000;\n",
       "}\n",
       "#T_5443e_row5_col1 {\n",
       "  background-color: #9fcae1;\n",
       "  color: #000000;\n",
       "}\n",
       "#T_5443e_row6_col1 {\n",
       "  background-color: #aed1e7;\n",
       "  color: #000000;\n",
       "}\n",
       "#T_5443e_row7_col1 {\n",
       "  background-color: #c4daee;\n",
       "  color: #000000;\n",
       "}\n",
       "#T_5443e_row8_col1 {\n",
       "  background-color: #deebf7;\n",
       "  color: #000000;\n",
       "}\n",
       "#T_5443e_row9_col1 {\n",
       "  background-color: #dfecf7;\n",
       "  color: #000000;\n",
       "}\n",
       "#T_5443e_row10_col1 {\n",
       "  background-color: #eaf2fb;\n",
       "  color: #000000;\n",
       "}\n",
       "#T_5443e_row11_col1 {\n",
       "  background-color: #eef5fc;\n",
       "  color: #000000;\n",
       "}\n",
       "#T_5443e_row12_col1 {\n",
       "  background-color: #f2f7fd;\n",
       "  color: #000000;\n",
       "}\n",
       "#T_5443e_row13_col1 {\n",
       "  background-color: #f6faff;\n",
       "  color: #000000;\n",
       "}\n",
       "#T_5443e_row14_col1 {\n",
       "  background-color: #f7fbff;\n",
       "  color: #000000;\n",
       "}\n",
       "</style>\n",
       "<table id=\"T_5443e\">\n",
       "  <thead>\n",
       "    <tr>\n",
       "      <th class=\"blank level0\" >&nbsp;</th>\n",
       "      <th id=\"T_5443e_level0_col0\" class=\"col_heading level0 col0\" >Common_words</th>\n",
       "      <th id=\"T_5443e_level0_col1\" class=\"col_heading level0 col1\" >count</th>\n",
       "    </tr>\n",
       "  </thead>\n",
       "  <tbody>\n",
       "    <tr>\n",
       "      <th id=\"T_5443e_level0_row0\" class=\"row_heading level0 row0\" >0</th>\n",
       "      <td id=\"T_5443e_row0_col0\" class=\"data row0 col0\" >ko</td>\n",
       "      <td id=\"T_5443e_row0_col1\" class=\"data row0 col1\" >273</td>\n",
       "    </tr>\n",
       "    <tr>\n",
       "      <th id=\"T_5443e_level0_row1\" class=\"row_heading level0 row1\" >1</th>\n",
       "      <td id=\"T_5443e_row1_col0\" class=\"data row1 col0\" >mua</td>\n",
       "      <td id=\"T_5443e_row1_col1\" class=\"data row1 col1\" >264</td>\n",
       "    </tr>\n",
       "    <tr>\n",
       "      <th id=\"T_5443e_level0_row2\" class=\"row_heading level0 row2\" >2</th>\n",
       "      <td id=\"T_5443e_row2_col0\" class=\"data row2 col0\" >pin</td>\n",
       "      <td id=\"T_5443e_row2_col1\" class=\"data row2 col1\" >202</td>\n",
       "    </tr>\n",
       "    <tr>\n",
       "      <th id=\"T_5443e_level0_row3\" class=\"row_heading level0 row3\" >3</th>\n",
       "      <td id=\"T_5443e_row3_col0\" class=\"data row3 col0\" >xài</td>\n",
       "      <td id=\"T_5443e_row3_col1\" class=\"data row3 col1\" >163</td>\n",
       "    </tr>\n",
       "    <tr>\n",
       "      <th id=\"T_5443e_level0_row4\" class=\"row_heading level0 row4\" >4</th>\n",
       "      <td id=\"T_5443e_row4_col0\" class=\"data row4 col0\" >đi</td>\n",
       "      <td id=\"T_5443e_row4_col1\" class=\"data row4 col1\" >162</td>\n",
       "    </tr>\n",
       "    <tr>\n",
       "      <th id=\"T_5443e_level0_row5\" class=\"row_heading level0 row5\" >5</th>\n",
       "      <td id=\"T_5443e_row5_col0\" class=\"data row5 col0\" >giá</td>\n",
       "      <td id=\"T_5443e_row5_col1\" class=\"data row5 col1\" >151</td>\n",
       "    </tr>\n",
       "    <tr>\n",
       "      <th id=\"T_5443e_level0_row6\" class=\"row_heading level0 row6\" >6</th>\n",
       "      <td id=\"T_5443e_row6_col0\" class=\"data row6 col0\" >máy</td>\n",
       "      <td id=\"T_5443e_row6_col1\" class=\"data row6 col1\" >142</td>\n",
       "    </tr>\n",
       "    <tr>\n",
       "      <th id=\"T_5443e_level0_row7\" class=\"row_heading level0 row7\" >7</th>\n",
       "      <td id=\"T_5443e_row7_col0\" class=\"data row7 col0\" >đẹp</td>\n",
       "      <td id=\"T_5443e_row7_col1\" class=\"data row7 col1\" >129</td>\n",
       "    </tr>\n",
       "    <tr>\n",
       "      <th id=\"T_5443e_level0_row8\" class=\"row_heading level0 row8\" >8</th>\n",
       "      <td id=\"T_5443e_row8_col0\" class=\"data row8 col0\" >mànhình</td>\n",
       "      <td id=\"T_5443e_row8_col1\" class=\"data row8 col1\" >104</td>\n",
       "    </tr>\n",
       "    <tr>\n",
       "      <th id=\"T_5443e_level0_row9\" class=\"row_heading level0 row9\" >9</th>\n",
       "      <td id=\"T_5443e_row9_col0\" class=\"data row9 col0\" >ngon</td>\n",
       "      <td id=\"T_5443e_row9_col1\" class=\"data row9 col1\" >102</td>\n",
       "    </tr>\n",
       "    <tr>\n",
       "      <th id=\"T_5443e_level0_row10\" class=\"row_heading level0 row10\" >10</th>\n",
       "      <td id=\"T_5443e_row10_col0\" class=\"data row10 col0\" >miband</td>\n",
       "      <td id=\"T_5443e_row10_col1\" class=\"data row10 col1\" >92</td>\n",
       "    </tr>\n",
       "    <tr>\n",
       "      <th id=\"T_5443e_level0_row11\" class=\"row_heading level0 row11\" >11</th>\n",
       "      <td id=\"T_5443e_row11_col0\" class=\"data row11 col0\" >cóthể</td>\n",
       "      <td id=\"T_5443e_row11_col1\" class=\"data row11 col1\" >88</td>\n",
       "    </tr>\n",
       "    <tr>\n",
       "      <th id=\"T_5443e_level0_row12\" class=\"row_heading level0 row12\" >12</th>\n",
       "      <td id=\"T_5443e_row12_col0\" class=\"data row12 col0\" >mấy</td>\n",
       "      <td id=\"T_5443e_row12_col1\" class=\"data row12 col1\" >85</td>\n",
       "    </tr>\n",
       "    <tr>\n",
       "      <th id=\"T_5443e_level0_row13\" class=\"row_heading level0 row13\" >13</th>\n",
       "      <td id=\"T_5443e_row13_col0\" class=\"data row13 col0\" >samsung</td>\n",
       "      <td id=\"T_5443e_row13_col1\" class=\"data row13 col1\" >80</td>\n",
       "    </tr>\n",
       "    <tr>\n",
       "      <th id=\"T_5443e_level0_row14\" class=\"row_heading level0 row14\" >14</th>\n",
       "      <td id=\"T_5443e_row14_col0\" class=\"data row14 col0\" >đeo</td>\n",
       "      <td id=\"T_5443e_row14_col1\" class=\"data row14 col1\" >79</td>\n",
       "    </tr>\n",
       "  </tbody>\n",
       "</table>\n"
      ],
      "text/plain": [
       "<pandas.io.formats.style.Styler at 0x1aedf32e140>"
      ]
     },
     "execution_count": 268,
     "metadata": {},
     "output_type": "execute_result"
    }
   ],
   "source": [
    "words = data['comment'].apply(lambda x:str(x).split())\n",
    "top = Counter([item for sublist in words for item in sublist])\n",
    "temp = pd.DataFrame(top.most_common(15))\n",
    "temp.columns = ['Common_words','count']\n",
    "temp.style.background_gradient(cmap='Blues')"
   ]
  },
  {
   "cell_type": "code",
   "execution_count": 269,
   "metadata": {},
   "outputs": [],
   "source": [
    "vocab_size = 10000\n",
    "embedding_dim = 64\n",
    "max_length = 100\n",
    "lstm_out = 196\n",
    "\n",
    "data = data[data.sentiment != \"neutral\"]\n",
    "\n",
    "sequences = data.comment\n",
    "labels = data.sentiment\n",
    "\n",
    "tokenizer = Tokenizer(num_words=vocab_size, oov_token='<OOV>')\n",
    "tokenizer.fit_on_texts(sequences)"
   ]
  },
  {
   "cell_type": "code",
   "execution_count": 270,
   "metadata": {},
   "outputs": [
    {
     "data": {
      "text/plain": [
       "(906, 100)"
      ]
     },
     "execution_count": 270,
     "metadata": {},
     "output_type": "execute_result"
    }
   ],
   "source": [
    "numeric_sequences = tokenizer.texts_to_sequences(sequences)\n",
    "padded_sequences = pad_sequences(numeric_sequences, maxlen=max_length, truncating='post', padding='post')\n",
    "padded_sequences.shape"
   ]
  },
  {
   "cell_type": "code",
   "execution_count": 271,
   "metadata": {},
   "outputs": [
    {
     "name": "stdout",
     "output_type": "stream",
     "text": [
      "Model: \"sequential_3\"\n",
      "_________________________________________________________________\n",
      " Layer (type)                Output Shape              Param #   \n",
      "=================================================================\n",
      " embedding_3 (Embedding)     (None, 100, 64)           640000    \n",
      "                                                                 \n",
      " spatial_dropout1d_3 (Spatia  (None, 100, 64)          0         \n",
      " lDropout1D)                                                     \n",
      "                                                                 \n",
      " lstm_3 (LSTM)               (None, 196)               204624    \n",
      "                                                                 \n",
      " dense_3 (Dense)             (None, 2)                 394       \n",
      "                                                                 \n",
      "=================================================================\n",
      "Total params: 845,018\n",
      "Trainable params: 845,018\n",
      "Non-trainable params: 0\n",
      "_________________________________________________________________\n",
      "None\n"
     ]
    }
   ],
   "source": [
    "model = Sequential()\n",
    "model.add(Embedding(vocab_size, embedding_dim,input_length = padded_sequences.shape[1]))\n",
    "model.add(SpatialDropout1D(0.4))\n",
    "model.add(LSTM(lstm_out, dropout=0.2, recurrent_dropout=0.2))\n",
    "model.add(Dense(2,activation='softmax'))\n",
    "model.compile(loss = 'categorical_crossentropy', optimizer='adam',metrics = ['accuracy'])\n",
    "print(model.summary())"
   ]
  },
  {
   "cell_type": "code",
   "execution_count": 272,
   "metadata": {},
   "outputs": [
    {
     "name": "stdout",
     "output_type": "stream",
     "text": [
      "(724, 100) (724, 2)\n",
      "(182, 100) (182, 2)\n"
     ]
    }
   ],
   "source": [
    "Y = pd.get_dummies(data['sentiment']).values\n",
    "X_train, X_test, Y_train, Y_test = train_test_split(padded_sequences,Y, test_size = 0.2, random_state = 42)\n",
    "print(X_train.shape,Y_train.shape)\n",
    "print(X_test.shape,Y_test.shape)"
   ]
  },
  {
   "cell_type": "code",
   "execution_count": 273,
   "metadata": {},
   "outputs": [
    {
     "name": "stdout",
     "output_type": "stream",
     "text": [
      "Epoch 1/7\n",
      "23/23 - 7s - loss: 0.6946 - accuracy: 0.5041 - 7s/epoch - 286ms/step\n",
      "Epoch 2/7\n",
      "23/23 - 4s - loss: 0.6931 - accuracy: 0.5124 - 4s/epoch - 174ms/step\n",
      "Epoch 3/7\n",
      "23/23 - 4s - loss: 0.6937 - accuracy: 0.5069 - 4s/epoch - 172ms/step\n",
      "Epoch 4/7\n",
      "23/23 - 4s - loss: 0.6948 - accuracy: 0.5221 - 4s/epoch - 169ms/step\n",
      "Epoch 5/7\n",
      "23/23 - 4s - loss: 0.6938 - accuracy: 0.4641 - 4s/epoch - 169ms/step\n",
      "Epoch 6/7\n",
      "23/23 - 4s - loss: 0.6928 - accuracy: 0.5235 - 4s/epoch - 166ms/step\n",
      "Epoch 7/7\n",
      "23/23 - 4s - loss: 0.6924 - accuracy: 0.5235 - 4s/epoch - 168ms/step\n"
     ]
    },
    {
     "data": {
      "text/plain": [
       "<keras.callbacks.History at 0x1aede535300>"
      ]
     },
     "execution_count": 273,
     "metadata": {},
     "output_type": "execute_result"
    }
   ],
   "source": [
    "batch_size = 32\n",
    "model.fit(X_train, Y_train, epochs = 7, batch_size=batch_size, verbose = 2)"
   ]
  }
 ],
 "metadata": {
  "kernelspec": {
   "display_name": "Python 3.10.6 64-bit",
   "language": "python",
   "name": "python3"
  },
  "language_info": {
   "codemirror_mode": {
    "name": "ipython",
    "version": 3
   },
   "file_extension": ".py",
   "mimetype": "text/x-python",
   "name": "python",
   "nbconvert_exporter": "python",
   "pygments_lexer": "ipython3",
   "version": "3.10.6"
  },
  "orig_nbformat": 4,
  "vscode": {
   "interpreter": {
    "hash": "82258a55d1500764d1b3d80f19af3c76a05d58cf47ccab85c75254e5aad3c4be"
   }
  }
 },
 "nbformat": 4,
 "nbformat_minor": 2
}
