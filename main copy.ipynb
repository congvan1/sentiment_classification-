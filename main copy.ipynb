{
 "cells": [
  {
   "cell_type": "code",
   "execution_count": 1,
   "metadata": {},
   "outputs": [],
   "source": [
    "import numpy as np\n",
    "import pandas as pd\n",
    "import urllib.request as requests\n",
    "import string\n",
    "import re\n",
    "import matplotlib.pyplot as plt"
   ]
  },
  {
   "cell_type": "code",
   "execution_count": 2,
   "metadata": {},
   "outputs": [
    {
     "data": {
      "text/html": [
       "<div>\n",
       "<style scoped>\n",
       "    .dataframe tbody tr th:only-of-type {\n",
       "        vertical-align: middle;\n",
       "    }\n",
       "\n",
       "    .dataframe tbody tr th {\n",
       "        vertical-align: top;\n",
       "    }\n",
       "\n",
       "    .dataframe thead th {\n",
       "        text-align: right;\n",
       "    }\n",
       "</style>\n",
       "<table border=\"1\" class=\"dataframe\">\n",
       "  <thead>\n",
       "    <tr style=\"text-align: right;\">\n",
       "      <th></th>\n",
       "      <th>sentiment</th>\n",
       "      <th>comment</th>\n",
       "    </tr>\n",
       "  </thead>\n",
       "  <tbody>\n",
       "    <tr>\n",
       "      <th>0</th>\n",
       "      <td>5</td>\n",
       "      <td>Chất lượng sản phẩm:tốt Đúng với mô tả:đẹp  Hà...</td>\n",
       "    </tr>\n",
       "    <tr>\n",
       "      <th>1</th>\n",
       "      <td>5</td>\n",
       "      <td>Với giá thành này thì hàng khá ổn . Bị lỗi pin...</td>\n",
       "    </tr>\n",
       "    <tr>\n",
       "      <th>2</th>\n",
       "      <td>5</td>\n",
       "      <td>Tính năng nổi bật:máy sáng Đúng với mô tả:chuẩ...</td>\n",
       "    </tr>\n",
       "    <tr>\n",
       "      <th>3</th>\n",
       "      <td>4</td>\n",
       "      <td>Máy đã thay vỏ nên ngoại hình đẹp, dùng làm má...</td>\n",
       "    </tr>\n",
       "    <tr>\n",
       "      <th>4</th>\n",
       "      <td>5</td>\n",
       "      <td>Chất lượng sản phẩm:sản phẩm dùng ổn định  Máy...</td>\n",
       "    </tr>\n",
       "    <tr>\n",
       "      <th>...</th>\n",
       "      <td>...</td>\n",
       "      <td>...</td>\n",
       "    </tr>\n",
       "    <tr>\n",
       "      <th>2519</th>\n",
       "      <td>1</td>\n",
       "      <td>Chx nhận đc hàng</td>\n",
       "    </tr>\n",
       "    <tr>\n",
       "      <th>2520</th>\n",
       "      <td>3</td>\n",
       "      <td>Đặt pin xanh giao pin màu xám</td>\n",
       "    </tr>\n",
       "    <tr>\n",
       "      <th>2521</th>\n",
       "      <td>2</td>\n",
       "      <td>Shop ghi pin mới 100% nhưng không phải đây là ...</td>\n",
       "    </tr>\n",
       "    <tr>\n",
       "      <th>2522</th>\n",
       "      <td>5</td>\n",
       "      <td>Rất tốt</td>\n",
       "    </tr>\n",
       "    <tr>\n",
       "      <th>2523</th>\n",
       "      <td>5</td>\n",
       "      <td>Chất lượng sản phẩm tuyệt vời đóng gói kỹ lưỡn...</td>\n",
       "    </tr>\n",
       "  </tbody>\n",
       "</table>\n",
       "<p>2524 rows × 2 columns</p>\n",
       "</div>"
      ],
      "text/plain": [
       "      sentiment                                            comment\n",
       "0             5  Chất lượng sản phẩm:tốt Đúng với mô tả:đẹp  Hà...\n",
       "1             5  Với giá thành này thì hàng khá ổn . Bị lỗi pin...\n",
       "2             5  Tính năng nổi bật:máy sáng Đúng với mô tả:chuẩ...\n",
       "3             4  Máy đã thay vỏ nên ngoại hình đẹp, dùng làm má...\n",
       "4             5  Chất lượng sản phẩm:sản phẩm dùng ổn định  Máy...\n",
       "...         ...                                                ...\n",
       "2519          1                                   Chx nhận đc hàng\n",
       "2520          3                      Đặt pin xanh giao pin màu xám\n",
       "2521          2  Shop ghi pin mới 100% nhưng không phải đây là ...\n",
       "2522          5                                            Rất tốt\n",
       "2523          5  Chất lượng sản phẩm tuyệt vời đóng gói kỹ lưỡn...\n",
       "\n",
       "[2524 rows x 2 columns]"
      ]
     },
     "execution_count": 2,
     "metadata": {},
     "output_type": "execute_result"
    }
   ],
   "source": [
    "data = pd.read_csv('dataset.csv')\n",
    "data"
   ]
  },
  {
   "cell_type": "code",
   "execution_count": 3,
   "metadata": {},
   "outputs": [
    {
     "data": {
      "image/png": "[encoded data removed]",
      "text/plain": [
       "<Figure size 1000x500 with 1 Axes>"
      ]
     },
     "metadata": {},
     "output_type": "display_data"
    }
   ],
   "source": [
    "ax = data['sentiment'].value_counts().sort_index().plot(kind='bar', \n",
    "                                                        title='Count of reviews by starts',\n",
    "                                                        figsize=(10,5))\n",
    "ax.set_xlabel('Review start')\n",
    "plt.show()"
   ]
  },
  {
   "cell_type": "markdown",
   "metadata": {},
   "source": [
    "Pre Processing"
   ]
  },
  {
   "cell_type": "code",
   "execution_count": 4,
   "metadata": {},
   "outputs": [],
   "source": [
    "stop_words = []\n",
    "with open('vietnamese-stopwords.txt', encoding='utf-8') as f:\n",
    "    stop_words = [t for t in f.read().split('\\n')]"
   ]
  },
  {
   "cell_type": "code",
   "execution_count": 5,
   "metadata": {},
   "outputs": [
    {
     "data": {
      "text/html": [
       "<div>\n",
       "<style scoped>\n",
       "    .dataframe tbody tr th:only-of-type {\n",
       "        vertical-align: middle;\n",
       "    }\n",
       "\n",
       "    .dataframe tbody tr th {\n",
       "        vertical-align: top;\n",
       "    }\n",
       "\n",
       "    .dataframe thead th {\n",
       "        text-align: right;\n",
       "    }\n",
       "</style>\n",
       "<table border=\"1\" class=\"dataframe\">\n",
       "  <thead>\n",
       "    <tr style=\"text-align: right;\">\n",
       "      <th></th>\n",
       "      <th>sentiment</th>\n",
       "      <th>comment</th>\n",
       "      <th>processed</th>\n",
       "    </tr>\n",
       "  </thead>\n",
       "  <tbody>\n",
       "    <tr>\n",
       "      <th>0</th>\n",
       "      <td>5</td>\n",
       "      <td>Chất lượng sản phẩm:tốt Đúng với mô tả:đẹp  Hà...</td>\n",
       "      <td>chất sản phẩm tốt mô tả đẹp hàng đẹp mua khá m...</td>\n",
       "    </tr>\n",
       "    <tr>\n",
       "      <th>1</th>\n",
       "      <td>5</td>\n",
       "      <td>Với giá thành này thì hàng khá ổn . Bị lỗi pin...</td>\n",
       "      <td>giá thành hàng khá ổn lỗi pin shop gửi pin mk ...</td>\n",
       "    </tr>\n",
       "    <tr>\n",
       "      <th>2</th>\n",
       "      <td>5</td>\n",
       "      <td>Tính năng nổi bật:máy sáng Đúng với mô tả:chuẩ...</td>\n",
       "      <td>năng nổi bật máy mô tả chuẩn chất sản phẩm hàn...</td>\n",
       "    </tr>\n",
       "    <tr>\n",
       "      <th>3</th>\n",
       "      <td>4</td>\n",
       "      <td>Máy đã thay vỏ nên ngoại hình đẹp, dùng làm má...</td>\n",
       "      <td>máy thay vỏ ngoại hình đẹp máy phụ ổn ngon nút...</td>\n",
       "    </tr>\n",
       "    <tr>\n",
       "      <th>4</th>\n",
       "      <td>5</td>\n",
       "      <td>Chất lượng sản phẩm:sản phẩm dùng ổn định  Máy...</td>\n",
       "      <td>chất sản phẩm sản phẩm ổn định máy đẹp lỗi gói...</td>\n",
       "    </tr>\n",
       "    <tr>\n",
       "      <th>5</th>\n",
       "      <td>5</td>\n",
       "      <td>Rất oke nè giá học sinh sinh viên shop rất uy ...</td>\n",
       "      <td>oke nè giá học sinh sinh viên shop uy tín nhu ...</td>\n",
       "    </tr>\n",
       "    <tr>\n",
       "      <th>6</th>\n",
       "      <td>5</td>\n",
       "      <td>Chất lượng sản phẩm:ok mọi thứ tạm ổn so với t...</td>\n",
       "      <td>chất sản phẩm ok tạm ổn tầm giá mô tả</td>\n",
       "    </tr>\n",
       "    <tr>\n",
       "      <th>7</th>\n",
       "      <td>1</td>\n",
       "      <td>Mọi người k nên mua nha..shop bán điện thoại q...</td>\n",
       "      <td>k mua nha shop điện thoại tệ vs giá tệ nhân ph...</td>\n",
       "    </tr>\n",
       "    <tr>\n",
       "      <th>8</th>\n",
       "      <td>5</td>\n",
       "      <td>Hàng tốt .. đt mới tinh mớii tinh mọi người nê...</td>\n",
       "      <td>hàng tốt đt tinh mớii tinh mua</td>\n",
       "    </tr>\n",
       "    <tr>\n",
       "      <th>9</th>\n",
       "      <td>5</td>\n",
       "      <td>Máy ok  Ship hàng nhanh</td>\n",
       "      <td>máy ok ship hàng</td>\n",
       "    </tr>\n",
       "  </tbody>\n",
       "</table>\n",
       "</div>"
      ],
      "text/plain": [
       "   sentiment                                            comment  \\\n",
       "0          5  Chất lượng sản phẩm:tốt Đúng với mô tả:đẹp  Hà...   \n",
       "1          5  Với giá thành này thì hàng khá ổn . Bị lỗi pin...   \n",
       "2          5  Tính năng nổi bật:máy sáng Đúng với mô tả:chuẩ...   \n",
       "3          4  Máy đã thay vỏ nên ngoại hình đẹp, dùng làm má...   \n",
       "4          5  Chất lượng sản phẩm:sản phẩm dùng ổn định  Máy...   \n",
       "5          5  Rất oke nè giá học sinh sinh viên shop rất uy ...   \n",
       "6          5  Chất lượng sản phẩm:ok mọi thứ tạm ổn so với t...   \n",
       "7          1  Mọi người k nên mua nha..shop bán điện thoại q...   \n",
       "8          5  Hàng tốt .. đt mới tinh mớii tinh mọi người nê...   \n",
       "9          5                            Máy ok  Ship hàng nhanh   \n",
       "\n",
       "                                           processed  \n",
       "0  chất sản phẩm tốt mô tả đẹp hàng đẹp mua khá m...  \n",
       "1  giá thành hàng khá ổn lỗi pin shop gửi pin mk ...  \n",
       "2  năng nổi bật máy mô tả chuẩn chất sản phẩm hàn...  \n",
       "3  máy thay vỏ ngoại hình đẹp máy phụ ổn ngon nút...  \n",
       "4  chất sản phẩm sản phẩm ổn định máy đẹp lỗi gói...  \n",
       "5  oke nè giá học sinh sinh viên shop uy tín nhu ...  \n",
       "6              chất sản phẩm ok tạm ổn tầm giá mô tả  \n",
       "7  k mua nha shop điện thoại tệ vs giá tệ nhân ph...  \n",
       "8                     hàng tốt đt tinh mớii tinh mua  \n",
       "9                                   máy ok ship hàng  "
      ]
     },
     "execution_count": 5,
     "metadata": {},
     "output_type": "execute_result"
    }
   ],
   "source": [
    "# Defining regex patterns.\n",
    "urlPattern        = r\"((http://)[^ ]*|(https://)[^ ]*|(www\\.)[^ ]*)\"\n",
    "alphaPattern      = \"[^a-z0-9<>]\"\n",
    "sequencePattern   = r\"(.)\\1\\1+\"\n",
    "seqReplacePattern = r\"\\1\\1\"\n",
    "\n",
    "# Defining regex for emojis\n",
    "smile_emoji        = r\"[8:=;]['`\\-]?[)d]+\"\n",
    "sad_emoji          = r\"[8:=;]['`\\-]?\\(+\"\n",
    "neutral_emoji      = r\"[8:=;]['`\\-]?[\\/|l*]\"\n",
    "lol_emoji          = r\"[8:=;]['`\\-]?p+\"\n",
    "\n",
    "def preprocess(input:str):\n",
    "    # Lower\n",
    "    input = input.lower()\n",
    "    # clean\n",
    "    input = input.strip().replace('\\n', '')\n",
    "\n",
    "    # Replace 3 or more consecutive letters by 2 letter.\n",
    "    input = re.sub(sequencePattern, seqReplacePattern, input)\n",
    "    \n",
    "    # Replace all emojis.\n",
    "    input = re.sub(r'<3', 'tim', input)\n",
    "    input = re.sub(smile_emoji, 'cười', input)\n",
    "    input = re.sub(sad_emoji, 'buồn', input)\n",
    "    input = re.sub(neutral_emoji, 'bình thường', input)\n",
    "    input = re.sub(lol_emoji, 'vui', input)\n",
    "    \n",
    "    # Keep word\n",
    "    input = re.sub('\\[.*?\\]', ' ', input)\n",
    "    input = re.sub('https?://\\S+|www\\.\\S+', ' ', input)\n",
    "    input = re.sub('<.*?>+', ' ', input)\n",
    "    input = re.sub('[%s]' % re.escape(string.punctuation), ' ', input)\n",
    "    input = re.sub('\\n', ' ', input)\n",
    "    input = re.sub('\\w*\\d\\w*', ' ', input)\n",
    "    \n",
    "    return ' '.join([word for word in input.split() if word not in stop_words])\n",
    "\n",
    "data.dropna()\n",
    "data[\"processed\"] = data[\"comment\"].apply(lambda x: preprocess(x))\n",
    "data.head(10)"
   ]
  },
  {
   "cell_type": "code",
   "execution_count": 6,
   "metadata": {},
   "outputs": [
    {
     "name": "stdout",
     "output_type": "stream",
     "text": [
      "['sản phẩm tốt', 'ổn', 'k ổn', 'tệ', 'giao sai hàng', 'tạm', 'ok tim']\n"
     ]
    }
   ],
   "source": [
    "\n",
    "\n",
    "text = ['sản phẩm tốt', 'ổn', 'k ổn', 'tệ', 'giao sai hàng', 'tạm được', 'ok <3']\n",
    "y = [preprocess(t) for t in text]\n",
    "print(y)"
   ]
  },
  {
   "cell_type": "code",
   "execution_count": 7,
   "metadata": {},
   "outputs": [
    {
     "data": {
      "text/html": [
       "<div>\n",
       "<style scoped>\n",
       "    .dataframe tbody tr th:only-of-type {\n",
       "        vertical-align: middle;\n",
       "    }\n",
       "\n",
       "    .dataframe tbody tr th {\n",
       "        vertical-align: top;\n",
       "    }\n",
       "\n",
       "    .dataframe thead th {\n",
       "        text-align: right;\n",
       "    }\n",
       "</style>\n",
       "<table border=\"1\" class=\"dataframe\">\n",
       "  <thead>\n",
       "    <tr style=\"text-align: right;\">\n",
       "      <th></th>\n",
       "      <th>sentiment</th>\n",
       "      <th>comment</th>\n",
       "      <th>processed</th>\n",
       "    </tr>\n",
       "  </thead>\n",
       "  <tbody>\n",
       "    <tr>\n",
       "      <th>0</th>\n",
       "      <td>1</td>\n",
       "      <td>Chất lượng sản phẩm:tốt Đúng với mô tả:đẹp  Hà...</td>\n",
       "      <td>chất sản phẩm tốt mô tả đẹp hàng đẹp mua khá m...</td>\n",
       "    </tr>\n",
       "    <tr>\n",
       "      <th>1</th>\n",
       "      <td>1</td>\n",
       "      <td>Với giá thành này thì hàng khá ổn . Bị lỗi pin...</td>\n",
       "      <td>giá thành hàng khá ổn lỗi pin shop gửi pin mk ...</td>\n",
       "    </tr>\n",
       "    <tr>\n",
       "      <th>2</th>\n",
       "      <td>1</td>\n",
       "      <td>Tính năng nổi bật:máy sáng Đúng với mô tả:chuẩ...</td>\n",
       "      <td>năng nổi bật máy mô tả chuẩn chất sản phẩm hàn...</td>\n",
       "    </tr>\n",
       "    <tr>\n",
       "      <th>3</th>\n",
       "      <td>0</td>\n",
       "      <td>Máy đã thay vỏ nên ngoại hình đẹp, dùng làm má...</td>\n",
       "      <td>máy thay vỏ ngoại hình đẹp máy phụ ổn ngon nút...</td>\n",
       "    </tr>\n",
       "    <tr>\n",
       "      <th>4</th>\n",
       "      <td>1</td>\n",
       "      <td>Chất lượng sản phẩm:sản phẩm dùng ổn định  Máy...</td>\n",
       "      <td>chất sản phẩm sản phẩm ổn định máy đẹp lỗi gói...</td>\n",
       "    </tr>\n",
       "    <tr>\n",
       "      <th>5</th>\n",
       "      <td>1</td>\n",
       "      <td>Rất oke nè giá học sinh sinh viên shop rất uy ...</td>\n",
       "      <td>oke nè giá học sinh sinh viên shop uy tín nhu ...</td>\n",
       "    </tr>\n",
       "    <tr>\n",
       "      <th>6</th>\n",
       "      <td>1</td>\n",
       "      <td>Chất lượng sản phẩm:ok mọi thứ tạm ổn so với t...</td>\n",
       "      <td>chất sản phẩm ok tạm ổn tầm giá mô tả</td>\n",
       "    </tr>\n",
       "    <tr>\n",
       "      <th>7</th>\n",
       "      <td>0</td>\n",
       "      <td>Mọi người k nên mua nha..shop bán điện thoại q...</td>\n",
       "      <td>k mua nha shop điện thoại tệ vs giá tệ nhân ph...</td>\n",
       "    </tr>\n",
       "    <tr>\n",
       "      <th>8</th>\n",
       "      <td>1</td>\n",
       "      <td>Hàng tốt .. đt mới tinh mớii tinh mọi người nê...</td>\n",
       "      <td>hàng tốt đt tinh mớii tinh mua</td>\n",
       "    </tr>\n",
       "    <tr>\n",
       "      <th>9</th>\n",
       "      <td>1</td>\n",
       "      <td>Máy ok  Ship hàng nhanh</td>\n",
       "      <td>máy ok ship hàng</td>\n",
       "    </tr>\n",
       "  </tbody>\n",
       "</table>\n",
       "</div>"
      ],
      "text/plain": [
       "   sentiment                                            comment  \\\n",
       "0          1  Chất lượng sản phẩm:tốt Đúng với mô tả:đẹp  Hà...   \n",
       "1          1  Với giá thành này thì hàng khá ổn . Bị lỗi pin...   \n",
       "2          1  Tính năng nổi bật:máy sáng Đúng với mô tả:chuẩ...   \n",
       "3          0  Máy đã thay vỏ nên ngoại hình đẹp, dùng làm má...   \n",
       "4          1  Chất lượng sản phẩm:sản phẩm dùng ổn định  Máy...   \n",
       "5          1  Rất oke nè giá học sinh sinh viên shop rất uy ...   \n",
       "6          1  Chất lượng sản phẩm:ok mọi thứ tạm ổn so với t...   \n",
       "7          0  Mọi người k nên mua nha..shop bán điện thoại q...   \n",
       "8          1  Hàng tốt .. đt mới tinh mớii tinh mọi người nê...   \n",
       "9          1                            Máy ok  Ship hàng nhanh   \n",
       "\n",
       "                                           processed  \n",
       "0  chất sản phẩm tốt mô tả đẹp hàng đẹp mua khá m...  \n",
       "1  giá thành hàng khá ổn lỗi pin shop gửi pin mk ...  \n",
       "2  năng nổi bật máy mô tả chuẩn chất sản phẩm hàn...  \n",
       "3  máy thay vỏ ngoại hình đẹp máy phụ ổn ngon nút...  \n",
       "4  chất sản phẩm sản phẩm ổn định máy đẹp lỗi gói...  \n",
       "5  oke nè giá học sinh sinh viên shop uy tín nhu ...  \n",
       "6              chất sản phẩm ok tạm ổn tầm giá mô tả  \n",
       "7  k mua nha shop điện thoại tệ vs giá tệ nhân ph...  \n",
       "8                     hàng tốt đt tinh mớii tinh mua  \n",
       "9                                   máy ok ship hàng  "
      ]
     },
     "execution_count": 7,
     "metadata": {},
     "output_type": "execute_result"
    }
   ],
   "source": [
    "def scale(x):\n",
    "    if x == 5:\n",
    "        return 1\n",
    "    return 0\n",
    "data[\"sentiment\"] = data[\"sentiment\"].apply(lambda x: scale(x))\n",
    "data.head(10)"
   ]
  },
  {
   "cell_type": "code",
   "execution_count": 8,
   "metadata": {},
   "outputs": [],
   "source": [
    "from tensorflow.keras.preprocessing.text import Tokenizer\n",
    "from tensorflow.keras.preprocessing.sequence import pad_sequences\n",
    "from tensorflow.keras.models import Sequential\n",
    "from tensorflow.keras.layers import Dense, Embedding, LSTM, Flatten\n",
    "from sklearn.model_selection import train_test_split\n"
   ]
  },
  {
   "cell_type": "code",
   "execution_count": 9,
   "metadata": {},
   "outputs": [],
   "source": [
    "vocab_size = 10000\n",
    "embedding_dim = 64\n",
    "max_length = 50\n",
    "\n",
    "sequences = data.processed\n",
    "labels = data.sentiment\n",
    "\n",
    "tokenizer = Tokenizer(num_words=vocab_size, oov_token='<OOV>')\n",
    "tokenizer.fit_on_texts(sequences)"
   ]
  },
  {
   "cell_type": "code",
   "execution_count": 10,
   "metadata": {},
   "outputs": [],
   "source": [
    "X_train, X_test, train_labels, test_labels = train_test_split(sequences, labels, test_size = 0.2, random_state = 42)\n"
   ]
  },
  {
   "cell_type": "code",
   "execution_count": 11,
   "metadata": {},
   "outputs": [
    {
     "data": {
      "text/plain": [
       "array([[ 87, 122,   0, ...,   0,   0,   0],\n",
       "       [ 14,  10, 123, ...,   0,   0,   0],\n",
       "       [  6,   2,   3, ...,   0,   0,   0],\n",
       "       ...,\n",
       "       [ 25,  27,  28, ...,   0,   0,   0],\n",
       "       [ 17,  43, 132, ...,   0,   0,   0],\n",
       "       [  6,   2, 128, ...,   0,   0,   0]])"
      ]
     },
     "execution_count": 11,
     "metadata": {},
     "output_type": "execute_result"
    }
   ],
   "source": [
    "train_sequences = tokenizer.texts_to_sequences(X_train)\n",
    "padded_train_sequences = pad_sequences(train_sequences, maxlen=max_length, truncating='post', padding='post')\n",
    "padded_train_sequences"
   ]
  },
  {
   "cell_type": "code",
   "execution_count": 12,
   "metadata": {},
   "outputs": [
    {
     "data": {
      "text/plain": [
       "(505, 50)"
      ]
     },
     "execution_count": 12,
     "metadata": {},
     "output_type": "execute_result"
    }
   ],
   "source": [
    "test_sequences = tokenizer.texts_to_sequences(X_test)\n",
    "padded_test_sequences = pad_sequences(test_sequences, maxlen=max_length, truncating='post', padding='post')\n",
    "padded_test_sequences.shape"
   ]
  },
  {
   "cell_type": "markdown",
   "metadata": {},
   "source": [
    "Model"
   ]
  },
  {
   "cell_type": "code",
   "execution_count": 13,
   "metadata": {},
   "outputs": [],
   "source": [
    "\n",
    "from tensorflow.keras.models import Sequential\n",
    "from tensorflow.keras.layers import Dense, Embedding, LSTM, SpatialDropout1D, Flatten, Bidirectional\n",
    "from sklearn.feature_extraction.text import CountVectorizer\n",
    "from sklearn.model_selection import train_test_split\n",
    "from keras.utils.np_utils import to_categorical\n",
    "import plotly.express as px\n"
   ]
  },
  {
   "cell_type": "code",
   "execution_count": 14,
   "metadata": {},
   "outputs": [
    {
     "name": "stdout",
     "output_type": "stream",
     "text": [
      "Model: \"sequential\"\n",
      "_________________________________________________________________\n",
      " Layer (type)                Output Shape              Param #   \n",
      "=================================================================\n",
      " embedding (Embedding)       (None, 50, 64)            640000    \n",
      "                                                                 \n",
      " bidirectional (Bidirectiona  (None, 50, 256)          197632    \n",
      " l)                                                              \n",
      "                                                                 \n",
      " bidirectional_1 (Bidirectio  (None, 256)              394240    \n",
      " nal)                                                            \n",
      "                                                                 \n",
      " dense (Dense)               (None, 10)                2570      \n",
      "                                                                 \n",
      " dense_1 (Dense)             (None, 1)                 11        \n",
      "                                                                 \n",
      "=================================================================\n",
      "Total params: 1,234,453\n",
      "Trainable params: 1,234,453\n",
      "Non-trainable params: 0\n",
      "_________________________________________________________________\n"
     ]
    }
   ],
   "source": [
    "model = Sequential()\n",
    "model.add(Embedding(vocab_size, embedding_dim, input_length=max_length))\n",
    "model.add(Bidirectional(LSTM(units=128, return_sequences=True)))\n",
    "model.add(Bidirectional(LSTM(units=128, return_sequences=False)))\n",
    "model.add(Dense(10, activation='relu'))\n",
    "model.add(Dense(1, activation='sigmoid'))\n",
    "model.compile(loss='binary_crossentropy', optimizer='adam', metrics=['accuracy'])\n",
    "model.summary()"
   ]
  },
  {
   "cell_type": "code",
   "execution_count": 15,
   "metadata": {},
   "outputs": [
    {
     "name": "stdout",
     "output_type": "stream",
     "text": [
      "Epoch 1/10\n",
      "64/64 [==============================] - 12s 105ms/step - loss: 0.5662 - accuracy: 0.7390 - val_loss: 0.4280 - val_accuracy: 0.8198\n",
      "Epoch 2/10\n",
      "64/64 [==============================] - 5s 85ms/step - loss: 0.3763 - accuracy: 0.8375 - val_loss: 0.4090 - val_accuracy: 0.8198\n",
      "Epoch 3/10\n",
      "64/64 [==============================] - 5s 82ms/step - loss: 0.2992 - accuracy: 0.8836 - val_loss: 0.4235 - val_accuracy: 0.8059\n",
      "Epoch 4/10\n",
      "64/64 [==============================] - 5s 82ms/step - loss: 0.2587 - accuracy: 0.9059 - val_loss: 0.4931 - val_accuracy: 0.7921\n",
      "Epoch 5/10\n",
      "64/64 [==============================] - 5s 84ms/step - loss: 0.2090 - accuracy: 0.9237 - val_loss: 0.4858 - val_accuracy: 0.8099\n",
      "Epoch 6/10\n",
      "64/64 [==============================] - 6s 87ms/step - loss: 0.1987 - accuracy: 0.9222 - val_loss: 0.5490 - val_accuracy: 0.7861\n",
      "Epoch 7/10\n",
      "64/64 [==============================] - 6s 97ms/step - loss: 0.2254 - accuracy: 0.9158 - val_loss: 0.5532 - val_accuracy: 0.7980\n",
      "Epoch 8/10\n",
      "64/64 [==============================] - 5s 84ms/step - loss: 0.1685 - accuracy: 0.9401 - val_loss: 0.6953 - val_accuracy: 0.7743\n",
      "Epoch 9/10\n",
      "64/64 [==============================] - 5s 86ms/step - loss: 0.1502 - accuracy: 0.9440 - val_loss: 0.6681 - val_accuracy: 0.7723\n",
      "Epoch 10/10\n",
      "64/64 [==============================] - 6s 92ms/step - loss: 0.1311 - accuracy: 0.9490 - val_loss: 0.6651 - val_accuracy: 0.7762\n"
     ]
    }
   ],
   "source": [
    "history = model.fit(padded_train_sequences, train_labels, epochs=10, validation_data=(padded_test_sequences, test_labels))"
   ]
  },
  {
   "cell_type": "code",
   "execution_count": 16,
   "metadata": {},
   "outputs": [
    {
     "data": {
      "text/plain": [
       "<matplotlib.legend.Legend at 0x234ad266290>"
      ]
     },
     "execution_count": 16,
     "metadata": {},
     "output_type": "execute_result"
    },
    {
     "data": {
      "image/png": "[encoded data removed]",
      "text/plain": [
       "<Figure size 1500x400 with 2 Axes>"
      ]
     },
     "metadata": {},
     "output_type": "display_data"
    }
   ],
   "source": [
    "s, (at, al) = plt.subplots(1, 2, figsize=(15,4))\n",
    "at.plot(history.history['accuracy'], c= 'b')\n",
    "at.plot(history.history['val_accuracy'], c='r')\n",
    "at.set_title('model accuracy')\n",
    "at.set_ylabel('accuracy')\n",
    "at.set_xlabel('epoch')\n",
    "at.legend(['Bi_LSTM_train', 'Bi_LSTM_val'])\n",
    "\n",
    "al.plot(history.history['loss'], c='m')\n",
    "al.plot(history.history['val_loss'], c='c')\n",
    "al.set_title('model loss')\n",
    "al.set_ylabel('loss')\n",
    "al.set_xlabel('epoch')\n",
    "al.legend(['train', 'val'])"
   ]
  },
  {
   "cell_type": "code",
   "execution_count": 22,
   "metadata": {},
   "outputs": [
    {
     "name": "stdout",
     "output_type": "stream",
     "text": [
      "1/1 [==============================] - 0s 36ms/step\n",
      "sản phẩm tốt : positive ([0.929])\n",
      "ổn : neutral ([0.626])\n",
      "k ổn : negative ([0.376])\n",
      "tệ : negative ([0.133])\n",
      "giao sai hàng : negative ([0.127])\n",
      "tạm : neutral ([0.453])\n",
      "ok tim : positive ([0.986])\n",
      "áo bung : negative ([0.133])\n"
     ]
    }
   ],
   "source": [
    "def my_predict(input:list):\n",
    "    input = [preprocess(i) for i in input]\n",
    "    text_tokenizer = tokenizer.texts_to_sequences(pd.Series(input))\n",
    "    padded_test = pad_sequences(text_tokenizer, maxlen=max_length, truncating='post', padding='post')\n",
    "    y_predict = model.predict(padded_test)\n",
    "    for t, pred in zip(input, y_predict):\n",
    "        print(f'{t} : {sentiment(pred)} ({pred.round(decimals=3)})')\n",
    "\n",
    "def sentiment(x:int):\n",
    "    if x > 0.7:\n",
    "        return 'positive'\n",
    "    if x > 0.4:\n",
    "        return 'neutral'\n",
    "    return 'negative'\n",
    "\n",
    "\n",
    "TextDisplayObject = ['sản phẩm tốt', 'ổn', 'k ổn', 'tệ', 'giao sai hàng', 'tạm được', 'ok <3', 'áo bị bung chỉ']\n",
    "y_predict = my_predict(texts)"
   ]
  }
 ],
 "metadata": {
  "kernelspec": {
   "display_name": "Python 3.10.6 64-bit",
   "language": "python",
   "name": "python3"
  },
  "language_info": {
   "codemirror_mode": {
    "name": "ipython",
    "version": 3
   },
   "file_extension": ".py",
   "mimetype": "text/x-python",
   "name": "python",
   "nbconvert_exporter": "python",
   "pygments_lexer": "ipython3",
   "version": "3.10.6"
  },
  "orig_nbformat": 4,
  "vscode": {
   "interpreter": {
    "hash": "82258a55d1500764d1b3d80f19af3c76a05d58cf47ccab85c75254e5aad3c4be"
   }
  }
 },
 "nbformat": 4,
 "nbformat_minor": 2
}
